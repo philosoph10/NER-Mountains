{
 "cells": [
  {
   "cell_type": "markdown",
   "id": "43fe072b-7d9b-4f75-9a72-868146e3dfaa",
   "metadata": {},
   "source": [
    "# Necessary imports"
   ]
  },
  {
   "cell_type": "code",
   "execution_count": 1,
   "id": "f31021d2-cb3d-4a45-9e23-03b2b10e3211",
   "metadata": {},
   "outputs": [],
   "source": [
    "from datasets import load_dataset, load_from_disk\n",
    "import numpy as np\n",
    "from tqdm import tqdm"
   ]
  },
  {
   "cell_type": "code",
   "execution_count": 2,
   "id": "0a2656cd-0ec0-4bf0-8239-403dec6c929b",
   "metadata": {},
   "outputs": [
    {
     "data": {
      "application/vnd.jupyter.widget-view+json": {
       "model_id": "21fced9099c74fbe9abc1c39eb3f7fc9",
       "version_major": 2,
       "version_minor": 0
      },
      "text/plain": [
       "Downloading builder script:   0%|          | 0.00/11.6k [00:00<?, ?B/s]"
      ]
     },
     "metadata": {},
     "output_type": "display_data"
    },
    {
     "data": {
      "application/vnd.jupyter.widget-view+json": {
       "model_id": "4f6842ef33f149578b6b8d0da1830589",
       "version_major": 2,
       "version_minor": 0
      },
      "text/plain": [
       "Downloading readme:   0%|          | 0.00/7.13k [00:00<?, ?B/s]"
      ]
     },
     "metadata": {},
     "output_type": "display_data"
    },
    {
     "data": {
      "application/vnd.jupyter.widget-view+json": {
       "model_id": "2d7c842e15864d82bb3da92a571ad404",
       "version_major": 2,
       "version_minor": 0
      },
      "text/plain": [
       "Downloading data:   0%|          | 0.00/14.6M [00:00<?, ?B/s]"
      ]
     },
     "metadata": {},
     "output_type": "display_data"
    },
    {
     "data": {
      "application/vnd.jupyter.widget-view+json": {
       "model_id": "0e54b7035ba34e76979d9c57e47baca9",
       "version_major": 2,
       "version_minor": 0
      },
      "text/plain": [
       "Generating train split: 0 examples [00:00, ? examples/s]"
      ]
     },
     "metadata": {},
     "output_type": "display_data"
    },
    {
     "data": {
      "application/vnd.jupyter.widget-view+json": {
       "model_id": "8eb3d17c805e4811ad1880c0889b34e0",
       "version_major": 2,
       "version_minor": 0
      },
      "text/plain": [
       "  0%|          | 0/3359329 [00:00<?, ?it/s]"
      ]
     },
     "metadata": {},
     "output_type": "display_data"
    },
    {
     "data": {
      "application/vnd.jupyter.widget-view+json": {
       "model_id": "e76ca0f5986244c7b51692cce024b027",
       "version_major": 2,
       "version_minor": 0
      },
      "text/plain": [
       "Generating validation split: 0 examples [00:00, ? examples/s]"
      ]
     },
     "metadata": {},
     "output_type": "display_data"
    },
    {
     "data": {
      "application/vnd.jupyter.widget-view+json": {
       "model_id": "b7a6ac417b294df98d4ad68e5a29b05b",
       "version_major": 2,
       "version_minor": 0
      },
      "text/plain": [
       "  0%|          | 0/482037 [00:00<?, ?it/s]"
      ]
     },
     "metadata": {},
     "output_type": "display_data"
    },
    {
     "data": {
      "application/vnd.jupyter.widget-view+json": {
       "model_id": "d2d2a391fb2c4110b08778abd2fbfd28",
       "version_major": 2,
       "version_minor": 0
      },
      "text/plain": [
       "Generating test split: 0 examples [00:00, ? examples/s]"
      ]
     },
     "metadata": {},
     "output_type": "display_data"
    },
    {
     "data": {
      "application/vnd.jupyter.widget-view+json": {
       "model_id": "4a4c639e2f094989aa23ea5840c036bb",
       "version_major": 2,
       "version_minor": 0
      },
      "text/plain": [
       "  0%|          | 0/958765 [00:00<?, ?it/s]"
      ]
     },
     "metadata": {},
     "output_type": "display_data"
    }
   ],
   "source": [
    "# load the an existing dataset for NER that contians mountains from Huggingface\n",
    "dataset = load_dataset(\"DFKI-SLT/few-nerd\", \"supervised\")"
   ]
  },
  {
   "cell_type": "code",
   "execution_count": 37,
   "id": "0f19f012-ede1-4080-ba3e-0c21631fa1c1",
   "metadata": {},
   "outputs": [],
   "source": [
    "train_dataset = dataset[\"train\"]\n",
    "test_dataset = dataset[\"test\"]\n",
    "val_dataset = dataset[\"validation\"]"
   ]
  },
  {
   "cell_type": "markdown",
   "id": "b8ac904f-b408-40fa-8471-1f401b9dfdfd",
   "metadata": {},
   "source": [
    "The mountains have the tag 24"
   ]
  },
  {
   "cell_type": "code",
   "execution_count": 21,
   "id": "812828a4-aadd-4ec4-9df4-23b9be50dc0a",
   "metadata": {},
   "outputs": [],
   "source": [
    "def print_stats(dataset_x, mountain_tag=1):\n",
    "    \"\"\"\n",
    "    print the stats relative to mountains\n",
    "    :param dataset_x: the dataset\n",
    "    :param mountain_tag: the tag that corresponds to the mountains\n",
    "    \"\"\"\n",
    "    num_mountains = 0\n",
    "    num_samples_with_mountains = 0\n",
    "    mountains = set()\n",
    "    for line in tqdm(dataset_x):\n",
    "        tags = line['fine_ner_tags']\n",
    "        flag = True\n",
    "        for i, tag in enumerate(tags):\n",
    "            if tag == mountain_tag:\n",
    "                num_mountains += 1\n",
    "                if flag:\n",
    "                    flag = False\n",
    "                    num_samples_with_mountains += 1\n",
    "                mountains.add(line['tokens'][i])\n",
    "    print(f'\\n#mountains = {num_mountains}')\n",
    "    print(f'#distinct mountains = {len(mountains)}')\n",
    "    print(f'#samples with mountains = {num_samples_with_mountains}')"
   ]
  },
  {
   "cell_type": "code",
   "execution_count": 22,
   "id": "c4c6e1ae-f432-4a64-b6e3-926a1c0d665b",
   "metadata": {},
   "outputs": [
    {
     "name": "stderr",
     "output_type": "stream",
     "text": [
      "100%|████████████████████████████████████████████████████████████████████████████████████████████████████████| 131767/131767 [00:35<00:00, 3749.41it/s]"
     ]
    },
    {
     "name": "stdout",
     "output_type": "stream",
     "text": [
      "\n",
      "#mountains = 4500\n",
      "#distinct mountains = 1871\n",
      "#samples with mountains = 1502\n"
     ]
    },
    {
     "name": "stderr",
     "output_type": "stream",
     "text": [
      "\n"
     ]
    }
   ],
   "source": [
    "print_stats(train_dataset, 24)"
   ]
  },
  {
   "cell_type": "code",
   "execution_count": 38,
   "id": "eeeb4a31-6d00-4142-872d-261a6918c87b",
   "metadata": {},
   "outputs": [
    {
     "name": "stderr",
     "output_type": "stream",
     "text": [
      "100%|██████████████████████████████████████████████████████████████████████████████████████████████████████████| 37648/37648 [00:10<00:00, 3639.80it/s]"
     ]
    },
    {
     "name": "stdout",
     "output_type": "stream",
     "text": [
      "\n",
      "#mountains = 1366\n",
      "#distinct mountains = 776\n",
      "#samples with mountains = 448\n"
     ]
    },
    {
     "name": "stderr",
     "output_type": "stream",
     "text": [
      "\n"
     ]
    }
   ],
   "source": [
    "print_stats(test_dataset, 24)"
   ]
  },
  {
   "cell_type": "code",
   "execution_count": 43,
   "id": "d64b1087-92c8-48df-9ac0-566310886665",
   "metadata": {},
   "outputs": [
    {
     "name": "stderr",
     "output_type": "stream",
     "text": [
      "100%|██████████████████████████████████████████████████████████████████████████████████████████████████████████| 18824/18824 [00:05<00:00, 3507.44it/s]"
     ]
    },
    {
     "name": "stdout",
     "output_type": "stream",
     "text": [
      "\n",
      "#mountains = 734\n",
      "#distinct mountains = 474\n",
      "#samples with mountains = 218\n"
     ]
    },
    {
     "name": "stderr",
     "output_type": "stream",
     "text": [
      "\n"
     ]
    }
   ],
   "source": [
    "print_stats(val_dataset, 24)"
   ]
  },
  {
   "cell_type": "markdown",
   "id": "4dc1fe10-4f35-4786-b269-ce10f1d93d58",
   "metadata": {},
   "source": [
    "# Process the dataset"
   ]
  },
  {
   "cell_type": "code",
   "execution_count": 9,
   "id": "3178ef84-20c1-4ad0-b1aa-402cbac4e4e4",
   "metadata": {},
   "outputs": [],
   "source": [
    "def mapping_function(example):\n",
    "    \"\"\"\n",
    "    A helper function that changes the tags like this:\n",
    "    24 -> 1\n",
    "    other -> 0\n",
    "    :param example: a dataset sample\n",
    "    :return: the example with tags modified\n",
    "    \"\"\"\n",
    "    old_tags = example[\"fine_ner_tags\"]\n",
    "    new_tags = []\n",
    "\n",
    "    for tag in old_tags:\n",
    "      if tag == 24:\n",
    "        new_tags.append(1)\n",
    "      else:\n",
    "        new_tags.append(0)\n",
    "\n",
    "    example['fine_ner_tags'] = new_tags\n",
    "\n",
    "    return example\n",
    "\n",
    "def modify_dataset(dataset):\n",
    "    \"\"\"\n",
    "    change the tags for every sample in the dataset\n",
    "    :param dataset: the dataset\n",
    "    :return: a modified dataset\n",
    "    \"\"\"\n",
    "    feature = dataset.features[\"fine_ner_tags\"]\n",
    "\n",
    "    # apply the mapping function to each sample in the dataset\n",
    "    dataset = dataset.map(mapping_function, batched=False)\n",
    "\n",
    "    return dataset"
   ]
  },
  {
   "cell_type": "code",
   "execution_count": 33,
   "id": "db3070ff-fbd6-46f8-b3bf-1d0937698ccc",
   "metadata": {},
   "outputs": [],
   "source": [
    "train_dataset = modify_dataset(train_dataset)"
   ]
  },
  {
   "cell_type": "code",
   "execution_count": 39,
   "id": "3d1b4a2a-1fa2-4eae-8047-7a4920cd94bf",
   "metadata": {},
   "outputs": [],
   "source": [
    "test_dataset = modify_dataset(test_dataset)"
   ]
  },
  {
   "cell_type": "code",
   "execution_count": 44,
   "id": "1f56454f-10e1-4c9f-8ee3-4fbe443e4f18",
   "metadata": {},
   "outputs": [],
   "source": [
    "val_dataset = modify_dataset(val_dataset)"
   ]
  },
  {
   "cell_type": "code",
   "execution_count": 13,
   "id": "fbbe87a4-b1c4-42ae-b631-b614ba39c327",
   "metadata": {},
   "outputs": [],
   "source": [
    "def reduce_dataset(dataset, p):\n",
    "    \"\"\"\n",
    "    reduce the dataset by leaving only p fraction of the samples that do not contain mountains\n",
    "    :param dataset: the dataset\n",
    "    :param p: the fraction, 0<=p<=1\n",
    "    \"\"\"\n",
    "    def filter_samples(example):\n",
    "        \"\"\"\n",
    "        a helper function to filter samples\n",
    "        :param example: the sample\n",
    "        :return: True, if keep, False, otherwise\n",
    "        \"\"\"\n",
    "        if 1 in example['fine_ner_tags']:\n",
    "            return True\n",
    "        x = np.random.uniform()\n",
    "        if x < p:\n",
    "            return True\n",
    "        else:\n",
    "            return False\n",
    "\n",
    "    reduced_dataset = dataset.filter(filter_samples)\n",
    "\n",
    "    return reduced_dataset"
   ]
  },
  {
   "cell_type": "code",
   "execution_count": 35,
   "id": "334fb8c5-0b58-43db-a841-2e07ab7e3410",
   "metadata": {},
   "outputs": [],
   "source": [
    "reduced_train = reduce_dataset(train_dataset, 1502 / (131767 - 1502))"
   ]
  },
  {
   "cell_type": "code",
   "execution_count": 40,
   "id": "93b49904-4f6b-4bdc-9ecb-a53acabb998a",
   "metadata": {},
   "outputs": [
    {
     "data": {
      "application/vnd.jupyter.widget-view+json": {
       "model_id": "510678a991c54d1481889ae94945232d",
       "version_major": 2,
       "version_minor": 0
      },
      "text/plain": [
       "Filter:   0%|          | 0/37648 [00:00<?, ? examples/s]"
      ]
     },
     "metadata": {},
     "output_type": "display_data"
    }
   ],
   "source": [
    "reduced_test = reduce_dataset(test_dataset, 448 / (37648 - 448))"
   ]
  },
  {
   "cell_type": "code",
   "execution_count": 45,
   "id": "0492a986-a6dc-402a-a353-35d8ca0cdd00",
   "metadata": {},
   "outputs": [
    {
     "data": {
      "application/vnd.jupyter.widget-view+json": {
       "model_id": "7320963e11ec407991c61aaa767fc1b7",
       "version_major": 2,
       "version_minor": 0
      },
      "text/plain": [
       "Filter:   0%|          | 0/18824 [00:00<?, ? examples/s]"
      ]
     },
     "metadata": {},
     "output_type": "display_data"
    }
   ],
   "source": [
    "reduced_val = reduce_dataset(val_dataset, 218 / (18824 - 218))"
   ]
  },
  {
   "cell_type": "markdown",
   "id": "666cba99-06b1-46eb-9424-65a0865ccdb4",
   "metadata": {},
   "source": [
    "Chech dataset integrity with respect to the mountains"
   ]
  },
  {
   "cell_type": "code",
   "execution_count": 47,
   "id": "e2fcaded-6a77-4fd0-ae95-e4e59a8347f1",
   "metadata": {},
   "outputs": [
    {
     "name": "stderr",
     "output_type": "stream",
     "text": [
      "100%|████████████████████████████████████████████████████████████████████████████████████████████████████████████| 2995/2995 [00:01<00:00, 1817.08it/s]"
     ]
    },
    {
     "name": "stdout",
     "output_type": "stream",
     "text": [
      "\n",
      "#mountains = 4500\n",
      "#distinct mountains = 1871\n",
      "#samples with mountains = 1502\n"
     ]
    },
    {
     "name": "stderr",
     "output_type": "stream",
     "text": [
      "\n"
     ]
    }
   ],
   "source": [
    "print_stats(reduced_train)"
   ]
  },
  {
   "cell_type": "markdown",
   "id": "35148d1c-0a52-4c34-a5f9-bc4624599092",
   "metadata": {},
   "source": [
    "print_stats(reduced_test)"
   ]
  },
  {
   "cell_type": "code",
   "execution_count": 49,
   "id": "81a0e15a-f9ac-4a7d-a272-bd7b8c25d543",
   "metadata": {},
   "outputs": [
    {
     "name": "stderr",
     "output_type": "stream",
     "text": [
      "100%|██████████████████████████████████████████████████████████████████████████████████████████████████████████████| 449/449 [00:00<00:00, 2608.78it/s]"
     ]
    },
    {
     "name": "stdout",
     "output_type": "stream",
     "text": [
      "\n",
      "#mountains = 734\n",
      "#distinct mountains = 474\n",
      "#samples with mountains = 218\n"
     ]
    },
    {
     "name": "stderr",
     "output_type": "stream",
     "text": [
      "\n"
     ]
    }
   ],
   "source": [
    "print_stats(reduced_val)"
   ]
  },
  {
   "cell_type": "markdown",
   "id": "52ab8dcb-602d-4d6a-aada-369143b112ad",
   "metadata": {},
   "source": [
    "# Save the datasets"
   ]
  },
  {
   "cell_type": "code",
   "execution_count": 52,
   "id": "b93223fc-6761-4e33-ab78-849fbb4a1314",
   "metadata": {},
   "outputs": [
    {
     "data": {
      "application/vnd.jupyter.widget-view+json": {
       "model_id": "5ffc0f5217234895b81d7cb49392bf23",
       "version_major": 2,
       "version_minor": 0
      },
      "text/plain": [
       "Saving the dataset (0/1 shards):   0%|          | 0/2995 [00:00<?, ? examples/s]"
      ]
     },
     "metadata": {},
     "output_type": "display_data"
    }
   ],
   "source": [
    "reduced_train.save_to_disk(\"./data/train_data\")"
   ]
  },
  {
   "cell_type": "code",
   "execution_count": 53,
   "id": "22919966-ba97-470d-87e7-b5af21844185",
   "metadata": {},
   "outputs": [
    {
     "data": {
      "application/vnd.jupyter.widget-view+json": {
       "model_id": "e0c33c6dec714c3e8b38db7cd08810e3",
       "version_major": 2,
       "version_minor": 0
      },
      "text/plain": [
       "Saving the dataset (0/1 shards):   0%|          | 0/886 [00:00<?, ? examples/s]"
      ]
     },
     "metadata": {},
     "output_type": "display_data"
    }
   ],
   "source": [
    "reduced_test.save_to_disk(\"./data/test_data\")"
   ]
  },
  {
   "cell_type": "code",
   "execution_count": 54,
   "id": "484e7ec1-0bad-4c65-90f2-bca50fb2e76a",
   "metadata": {},
   "outputs": [
    {
     "data": {
      "application/vnd.jupyter.widget-view+json": {
       "model_id": "850d237fa1264f46842f713e8aea0337",
       "version_major": 2,
       "version_minor": 0
      },
      "text/plain": [
       "Saving the dataset (0/1 shards):   0%|          | 0/449 [00:00<?, ? examples/s]"
      ]
     },
     "metadata": {},
     "output_type": "display_data"
    }
   ],
   "source": [
    "reduced_val.save_to_disk(\"./data/val_data\")"
   ]
  },
  {
   "cell_type": "markdown",
   "id": "23c8d887-b58b-48d7-a247-0cf267c7b1d3",
   "metadata": {},
   "source": [
    "# Check the saved data"
   ]
  },
  {
   "cell_type": "code",
   "execution_count": 55,
   "id": "39cf61db-cf04-49dc-99a8-bb10120b8f92",
   "metadata": {},
   "outputs": [
    {
     "name": "stderr",
     "output_type": "stream",
     "text": [
      "100%|████████████████████████████████████████████████████████████████████████████████████████████████████████████| 2995/2995 [00:00<00:00, 3014.00it/s]"
     ]
    },
    {
     "name": "stdout",
     "output_type": "stream",
     "text": [
      "\n",
      "#mountains = 4500\n",
      "#distinct mountains = 1871\n",
      "#samples with mountains = 1502\n"
     ]
    },
    {
     "name": "stderr",
     "output_type": "stream",
     "text": [
      "\n"
     ]
    }
   ],
   "source": [
    "train_loaded = load_from_disk('./data/train_data')\n",
    "print_stats(train_loaded)"
   ]
  },
  {
   "cell_type": "code",
   "execution_count": 56,
   "id": "b9b60d0d-6049-49f7-8045-79a4b11048df",
   "metadata": {},
   "outputs": [
    {
     "name": "stderr",
     "output_type": "stream",
     "text": [
      "100%|██████████████████████████████████████████████████████████████████████████████████████████████████████████████| 886/886 [00:00<00:00, 2732.35it/s]"
     ]
    },
    {
     "name": "stdout",
     "output_type": "stream",
     "text": [
      "\n",
      "#mountains = 1366\n",
      "#distinct mountains = 776\n",
      "#samples with mountains = 448\n"
     ]
    },
    {
     "name": "stderr",
     "output_type": "stream",
     "text": [
      "\n"
     ]
    }
   ],
   "source": [
    "test_loaded = load_from_disk('./data/test_data')\n",
    "print_stats(test_loaded)"
   ]
  },
  {
   "cell_type": "code",
   "execution_count": 57,
   "id": "bdfbc711-09b5-485b-b149-7fb5bc52bf24",
   "metadata": {},
   "outputs": [
    {
     "name": "stderr",
     "output_type": "stream",
     "text": [
      "100%|██████████████████████████████████████████████████████████████████████████████████████████████████████████████| 449/449 [00:00<00:00, 2971.15it/s]"
     ]
    },
    {
     "name": "stdout",
     "output_type": "stream",
     "text": [
      "\n",
      "#mountains = 734\n",
      "#distinct mountains = 474\n",
      "#samples with mountains = 218\n"
     ]
    },
    {
     "name": "stderr",
     "output_type": "stream",
     "text": [
      "\n"
     ]
    }
   ],
   "source": [
    "val_loaded = load_from_disk('./data/val_data')\n",
    "print_stats(val_loaded)"
   ]
  },
  {
   "cell_type": "code",
   "execution_count": null,
   "id": "604e5de1-b328-46b3-99a1-aff90200f444",
   "metadata": {},
   "outputs": [],
   "source": []
  }
 ],
 "metadata": {
  "kernelspec": {
   "display_name": "Python 3 (ipykernel)",
   "language": "python",
   "name": "python3"
  },
  "language_info": {
   "codemirror_mode": {
    "name": "ipython",
    "version": 3
   },
   "file_extension": ".py",
   "mimetype": "text/x-python",
   "name": "python",
   "nbconvert_exporter": "python",
   "pygments_lexer": "ipython3",
   "version": "3.9.5"
  }
 },
 "nbformat": 4,
 "nbformat_minor": 5
}
